{
 "cells": [
  {
   "cell_type": "markdown",
   "metadata": {},
   "source": [
    "# Consumer Notebook - Visualizing Real-Time Weather Data from Kafka"
   ]
  },
  {
   "cell_type": "markdown",
   "metadata": {},
   "source": [
    "## Prerequisites"
   ]
  },
  {
   "cell_type": "code",
   "execution_count": null,
   "metadata": {
    "vscode": {
     "languageId": "plaintext"
    }
   },
   "outputs": [],
   "source": [
    "%pip install confluent-kafka plotly pandas"
   ]
  },
  {
   "cell_type": "markdown",
   "metadata": {},
   "source": [
    "## Configuration"
   ]
  },
  {
   "cell_type": "code",
   "execution_count": null,
   "metadata": {},
   "outputs": [],
   "source": [
    "# Import necessary libraries\n",
    "import json\n",
    "import time\n",
    "import pandas as pd\n",
    "from confluent_kafka import Consumer, KafkaException, KafkaError\n",
    "import plotly.graph_objs as go\n",
    "from plotly.subplots import make_subplots\n",
    "from IPython.display import display, clear_output\n",
    "\n",
    "# Configuration Parameters\n",
    "\n",
    "# Kafka Configuration\n",
    "KAFKA_BOOTSTRAP_SERVERS = 'localhost:9092'  # Kafka broker address\n",
    "KAFKA_TOPIC = 'weather'                      # Kafka topic name\n",
    "KAFKA_GROUP_ID = 'weather_consumer_group'    # Consumer group ID\n",
    "\n",
    "# Visualization Configuration\n",
    "UPDATE_INTERVAL = 5  # seconds between visualization updates\n",
    "\n",
    "# Initialize empty DataFrame to store weather data\n",
    "weather_df = pd.DataFrame(columns=['timestamp', 'temperature', 'humidity', 'weather_description'])\n"
   ]
  },
  {
   "cell_type": "markdown",
   "metadata": {},
   "source": [
    "## Setting Up the Kafka Consumer"
   ]
  },
  {
   "cell_type": "code",
   "execution_count": null,
   "metadata": {},
   "outputs": [],
   "source": [
    "# Kafka Consumer Configuration\n",
    "consumer_config = {\n",
    "    'bootstrap.servers': KAFKA_BOOTSTRAP_SERVERS,\n",
    "    'group.id': KAFKA_GROUP_ID,\n",
    "    'auto.offset.reset': 'earliest',  # Start reading at the earliest message\n",
    "    'enable.auto.commit': True        # Automatically commit offsets\n",
    "}\n",
    "\n",
    "# Create Consumer instance\n",
    "consumer = Consumer(consumer_config)\n",
    "\n",
    "# Subscribe to the Kafka topic\n",
    "consumer.subscribe([KAFKA_TOPIC])"
   ]
  },
  {
   "cell_type": "markdown",
   "metadata": {},
   "source": [
    "## Consuming Messages from Kafka"
   ]
  },
  {
   "cell_type": "code",
   "execution_count": null,
   "metadata": {},
   "outputs": [],
   "source": [
    "def consume_messages(consumer, timeout=1.0):\n",
    "    \"\"\"\n",
    "    Consumes messages from Kafka and returns a list of weather data dictionaries.\n",
    "    \n",
    "    :param consumer: Kafka Consumer instance\n",
    "    :param timeout: Maximum time (in seconds) to wait for messages\n",
    "    :return: List of weather data dictionaries\n",
    "    \"\"\"\n",
    "    messages = []\n",
    "    try:\n",
    "        while True:\n",
    "            msg = consumer.poll(timeout=timeout)\n",
    "            if msg is None:\n",
    "                break  # No more messages\n",
    "            if msg.error():\n",
    "                if msg.error().code() == KafkaError._PARTITION_EOF:\n",
    "                    # End of partition event\n",
    "                    print(f\"[INFO] End of partition reached {msg.topic()} [{msg.partition()}]\")\n",
    "                elif msg.error():\n",
    "                    raise KafkaException(msg.error())\n",
    "            else:\n",
    "                # Proper message\n",
    "                weather_data = json.loads(msg.value().decode('utf-8'))\n",
    "                messages.append(weather_data)\n",
    "    except Exception as e:\n",
    "        print(f\"[ERROR] Failed to consume messages: {e}\")\n",
    "    return messages"
   ]
  },
  {
   "cell_type": "markdown",
   "metadata": {},
   "source": [
    "## Data Processing"
   ]
  },
  {
   "cell_type": "code",
   "execution_count": null,
   "metadata": {},
   "outputs": [],
   "source": [
    "def process_messages(messages, df):\n",
    "    \"\"\"\n",
    "    Processes a list of weather data messages and appends them to the DataFrame.\n",
    "    \n",
    "    :param messages: List of weather data dictionaries\n",
    "    :param df: Pandas DataFrame to append data to\n",
    "    :return: Updated DataFrame\n",
    "    \"\"\"\n",
    "    for msg in messages:\n",
    "        try:\n",
    "            timestamp = pd.to_datetime(msg['timestamp'], unit='s')\n",
    "            temperature = msg['temperature']\n",
    "            humidity = msg['humidity']\n",
    "            weather_description = msg['weather_description']\n",
    "            \n",
    "            # Append to DataFrame\n",
    "            df = df.append({\n",
    "                'timestamp': timestamp,\n",
    "                'temperature': temperature,\n",
    "                'humidity': humidity,\n",
    "                'weather_description': weather_description\n",
    "            }, ignore_index=True)\n",
    "        except KeyError as e:\n",
    "            print(f\"[ERROR] Missing key in message: {e}\")\n",
    "        except Exception as e:\n",
    "            print(f\"[ERROR] Failed to process message: {e}\")\n",
    "    return df"
   ]
  },
  {
   "cell_type": "markdown",
   "metadata": {},
   "source": [
    "## Real-Time Data Visualization"
   ]
  },
  {
   "cell_type": "code",
   "execution_count": null,
   "metadata": {},
   "outputs": [],
   "source": [
    "def create_live_visualization(df):\n",
    "    \"\"\"\n",
    "    Creates live-updating visualizations for temperature and humidity.\n",
    "    \n",
    "    :param df: Pandas DataFrame containing weather data\n",
    "    \"\"\"\n",
    "    # Clear previous output\n",
    "    clear_output(wait=True)\n",
    "    \n",
    "    # Create subplots: one for temperature, one for humidity\n",
    "    fig = make_subplots(rows=2, cols=1, shared_xaxes=True,\n",
    "                        subplot_titles=(\"Temperature Over Time\", \"Humidity Over Time\"))\n",
    "    \n",
    "    # Temperature Trace\n",
    "    fig.add_trace(\n",
    "        go.Scatter(\n",
    "            x=df['timestamp'],\n",
    "            y=df['temperature'],\n",
    "            mode='lines+markers',\n",
    "            name='Temperature (°C)'\n",
    "        ),\n",
    "        row=1, col=1\n",
    "    )\n",
    "    \n",
    "    # Humidity Trace\n",
    "    fig.add_trace(\n",
    "        go.Scatter(\n",
    "            x=df['timestamp'],\n",
    "            y=df['humidity'],\n",
    "            mode='lines+markers',\n",
    "            name='Humidity (%)',\n",
    "            line=dict(color='orange')\n",
    "        ),\n",
    "        row=2, col=1\n",
    "    )\n",
    "    \n",
    "    # Update layout for better visuals\n",
    "    fig.update_layout(\n",
    "        height=600,\n",
    "        width=800,\n",
    "        title_text=\"Live Weather Data Visualization\",\n",
    "        showlegend=True\n",
    "    )\n",
    "    \n",
    "    # Update x-axis with date formatting\n",
    "    fig.update_xaxes(\n",
    "        rangeslider_visible=True,\n",
    "        rangeselector=dict(\n",
    "            buttons=list([\n",
    "                dict(count=1, label=\"1h\", step=\"hour\", stepmode=\"backward\"),\n",
    "                dict(count=6, label=\"6h\", step=\"hour\", stepmode=\"backward\"),\n",
    "                dict(count=12, label=\"12h\", step=\"hour\", stepmode=\"backward\"),\n",
    "                dict(count=1, label=\"1d\", step=\"day\", stepmode=\"backward\"),\n",
    "                dict(step=\"all\")\n",
    "            ])\n",
    "        )\n",
    "    )\n",
    "    \n",
    "    # Display the figure\n",
    "    fig.show()\n"
   ]
  },
  {
   "cell_type": "markdown",
   "metadata": {},
   "source": [
    "## Logging and Monitoring"
   ]
  },
  {
   "cell_type": "code",
   "execution_count": null,
   "metadata": {},
   "outputs": [],
   "source": [
    "import logging\n",
    "\n",
    "# Configure logging\n",
    "logging.basicConfig(\n",
    "    level=logging.INFO,\n",
    "    format='%(asctime)s %(levelname)s %(message)s',\n",
    "    handlers=[\n",
    "        logging.StreamHandler()\n",
    "    ]\n",
    ")\n",
    "\n",
    "logger = logging.getLogger(__name__)"
   ]
  },
  {
   "cell_type": "markdown",
   "metadata": {},
   "source": [
    "## Main Execution Loop"
   ]
  },
  {
   "cell_type": "code",
   "execution_count": null,
   "metadata": {},
   "outputs": [],
   "source": [
    "def main():\n",
    "    logger.info(f\"Starting Kafka consumer for topic '{KAFKA_TOPIC}'\")\n",
    "    logger.info(f\"Visualizations will update every {UPDATE_INTERVAL} seconds.\\n\")\n",
    "    \n",
    "    global weather_df\n",
    "    \n",
    "    try:\n",
    "        while True:\n",
    "            # Consume messages\n",
    "            messages = consume_messages(consumer, timeout=1.0)\n",
    "            \n",
    "            if messages:\n",
    "                # Process and append messages to DataFrame\n",
    "                weather_df = process_messages(messages, weather_df)\n",
    "                logger.info(f\"Consumed {len(messages)} messages.\")\n",
    "            \n",
    "            if not weather_df.empty:\n",
    "                # Create live visualization\n",
    "                create_live_visualization(weather_df)\n",
    "            \n",
    "            # Wait before next consumption cycle\n",
    "            time.sleep(UPDATE_INTERVAL)\n",
    "    \n",
    "    except KeyboardInterrupt:\n",
    "        logger.info(\"\\n[INFO] Consumer interrupted by user. Shutting down...\")\n",
    "    \n",
    "    except Exception as e:\n",
    "        logger.error(f\"[ERROR] An unexpected error occurred: {e}\")\n",
    "    \n",
    "    finally:\n",
    "        # Close consumer gracefully\n",
    "        consumer.close()\n",
    "        logger.info(\"[INFO] Consumer has been shut down.\")"
   ]
  },
  {
   "cell_type": "markdown",
   "metadata": {},
   "source": [
    "## Entry Point"
   ]
  },
  {
   "cell_type": "code",
   "execution_count": null,
   "metadata": {},
   "outputs": [],
   "source": [
    "if __name__ == '__main__':\n",
    "    main()"
   ]
  }
 ],
 "metadata": {
  "language_info": {
   "name": "python"
  }
 },
 "nbformat": 4,
 "nbformat_minor": 2
}
