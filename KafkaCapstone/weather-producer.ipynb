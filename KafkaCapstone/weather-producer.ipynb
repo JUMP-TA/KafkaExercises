{
 "cells": [
  {
   "cell_type": "markdown",
   "metadata": {},
   "source": [
    "# Producer Notebook - Streaming Weather to Kafka"
   ]
  },
  {
   "cell_type": "markdown",
   "metadata": {},
   "source": [
    "## Prerequisites"
   ]
  },
  {
   "cell_type": "code",
   "execution_count": null,
   "metadata": {},
   "outputs": [],
   "source": [
    "%pip install confluent_kafka requests"
   ]
  },
  {
   "cell_type": "markdown",
   "metadata": {},
   "source": [
    "## Configuration"
   ]
  },
  {
   "cell_type": "code",
   "execution_count": null,
   "metadata": {},
   "outputs": [],
   "source": [
    "# Import necessary libraries\n",
    "import time\n",
    "import json\n",
    "import requests\n",
    "from confluent_kafka import Producer\n",
    "\n",
    "# Configuration Parameters\n",
    "\n",
    "# OpenWeatherMap API Configuration\n",
    "OPENWEATHERMAP_API_KEY = 'YOUR_OPENWEATHERMAP_API_KEY'  # Replace with your actual API key\n",
    "CITY_NAME = 'London'                                    # Replace with your desired city\n",
    "COUNTRY_CODE = 'UK'                                     # Replace with your country code\n",
    "UNITS = 'metric'                                        # 'metric' or 'imperial'\n",
    "\n",
    "# Kafka Configuration\n",
    "KAFKA_BOOTSTRAP_SERVERS = 'localhost:9092'             # Kafka broker address\n",
    "KAFKA_TOPIC = 'weather'                                 # Kafka topic name\n",
    "\n",
    "# OpenWeatherMap API Endpoint\n",
    "OWM_ENDPOINT = 'https://api.openweathermap.org/data/2.5/weather'\n",
    "\n",
    "# Fetch Interval (in seconds)\n",
    "FETCH_INTERVAL = 600  # 600 seconds = 10 minutes"
   ]
  },
  {
   "cell_type": "markdown",
   "metadata": {},
   "source": [
    "## Setting Up the Kafka Producer"
   ]
  },
  {
   "cell_type": "code",
   "execution_count": null,
   "metadata": {},
   "outputs": [],
   "source": [
    "def delivery_callback(err, msg):\n",
    "    \"\"\"\n",
    "    Callback function called once for each message produced to indicate delivery result.\n",
    "    \n",
    "    :param err: Error information, if any\n",
    "    :param msg: The message produced\n",
    "    \"\"\"\n",
    "    if err:\n",
    "        print(f\"[ERROR] Message delivery failed: {err}\")\n",
    "    else:\n",
    "        print(f\"[SUCCESS] Message delivered to {msg.topic()} [{msg.partition()}] at offset {msg.offset()}\")"
   ]
  },
  {
   "cell_type": "code",
   "execution_count": null,
   "metadata": {},
   "outputs": [],
   "source": [
    "# Kafka Producer Configuration\n",
    "producer_config = {\n",
    "    'bootstrap.servers': KAFKA_BOOTSTRAP_SERVERS,\n",
    "    'acks': 'all',           # Ensure all replicas acknowledge\n",
    "    'retries': 5,            # Retry up to 5 times on failure\n",
    "    'linger.ms': 10,         # Wait up to 10ms to batch messages\n",
    "    'batch.size': 32768      # Batch size in bytes (32KB)\n",
    "}\n",
    "\n",
    "# Create Producer instance\n",
    "producer = Producer(producer_config)"
   ]
  },
  {
   "cell_type": "markdown",
   "metadata": {},
   "source": [
    "## Fetching Weather Data"
   ]
  },
  {
   "cell_type": "code",
   "execution_count": null,
   "metadata": {},
   "outputs": [],
   "source": [
    "def get_weather_data(api_key, city, country, units='metric'):\n",
    "    \"\"\"\n",
    "    Fetches weather data from OpenWeatherMap API for the specified location.\n",
    "    \n",
    "    :param api_key: API key for OpenWeatherMap\n",
    "    :param city: City name\n",
    "    :param country: Country code (e.g., 'UK')\n",
    "    :param units: Units of measurement ('metric' or 'imperial')\n",
    "    :return: Dictionary containing weather data or None if failed\n",
    "    \"\"\"\n",
    "    params = {\n",
    "        'q': f'{city},{country}',\n",
    "        'appid': api_key,\n",
    "        'units': units\n",
    "    }\n",
    "    try:\n",
    "        response = requests.get(OWM_ENDPOINT, params=params)\n",
    "        response.raise_for_status()\n",
    "        data = response.json()\n",
    "        \n",
    "        # Extract desired weather stats\n",
    "        weather = {\n",
    "            'city': data.get('name'),\n",
    "            'country': data.get('sys', {}).get('country'),\n",
    "            'temperature': data.get('main', {}).get('temp'),\n",
    "            'humidity': data.get('main', {}).get('humidity'),\n",
    "            'weather_description': data.get('weather', [{}])[0].get('description'),\n",
    "            'timestamp': data.get('dt')  # Unix timestamp\n",
    "        }\n",
    "        return weather\n",
    "    except requests.exceptions.RequestException as e:\n",
    "        print(f\"[ERROR] Failed to fetch weather data: {e}\")\n",
    "        return None"
   ]
  },
  {
   "cell_type": "markdown",
   "metadata": {},
   "source": [
    "## Producing Messages to Kafka"
   ]
  },
  {
   "cell_type": "code",
   "execution_count": null,
   "metadata": {},
   "outputs": [],
   "source": [
    "def produce_weather_data(producer, topic, weather_data):\n",
    "    \"\"\"\n",
    "    Produces weather data to the specified Kafka topic.\n",
    "    \n",
    "    :param producer: Kafka Producer instance\n",
    "    :param topic: Kafka topic name\n",
    "    :param weather_data: Dictionary containing weather data\n",
    "    \"\"\"\n",
    "    try:\n",
    "        # Serialize weather data to JSON string\n",
    "        weather_json = json.dumps(weather_data)\n",
    "        \n",
    "        # Optional: Use city name as the message key for partitioning\n",
    "        key = weather_data['city'].encode('utf-8')\n",
    "        \n",
    "        # Produce message to Kafka\n",
    "        producer.produce(\n",
    "            topic=topic,\n",
    "            key=key,\n",
    "            value=weather_json,\n",
    "            callback=delivery_callback\n",
    "        )\n",
    "        \n",
    "        # Trigger delivery report callbacks\n",
    "        producer.poll(0)\n",
    "    except Exception as e:\n",
    "        print(f\"[ERROR] Failed to produce message: {e}\")"
   ]
  },
  {
   "cell_type": "markdown",
   "metadata": {},
   "source": [
    "## Main Execution Loop"
   ]
  },
  {
   "cell_type": "code",
   "execution_count": null,
   "metadata": {},
   "outputs": [],
   "source": [
    "def main():\n",
    "    print(f\"Starting Kafka producer for weather data: {CITY_NAME}, {COUNTRY_CODE}\")\n",
    "    print(f\"Producing to topic '{KAFKA_TOPIC}' every {FETCH_INTERVAL} seconds.\\n\")\n",
    "    \n",
    "    try:\n",
    "        while True:\n",
    "            # Fetch weather data\n",
    "            weather_data = get_weather_data(\n",
    "                OPENWEATHERMAP_API_KEY,\n",
    "                CITY_NAME,\n",
    "                COUNTRY_CODE,\n",
    "                UNITS\n",
    "            )\n",
    "            \n",
    "            if weather_data:\n",
    "                # Produce weather data to Kafka\n",
    "                produce_weather_data(producer, KAFKA_TOPIC, weather_data)\n",
    "            \n",
    "            # Wait for the specified interval before next fetch\n",
    "            time.sleep(FETCH_INTERVAL)\n",
    "    \n",
    "    except KeyboardInterrupt:\n",
    "        print(\"\\n[INFO] Producer interrupted by user. Flushing messages...\")\n",
    "    \n",
    "    except Exception as e:\n",
    "        print(f\"[ERROR] An unexpected error occurred: {e}\")\n",
    "    \n",
    "    finally:\n",
    "        # Flush any remaining messages\n",
    "        producer.flush()\n",
    "        print(\"[INFO] Producer has been shut down.\")"
   ]
  },
  {
   "cell_type": "markdown",
   "metadata": {},
   "source": [
    "# Entry Point"
   ]
  },
  {
   "cell_type": "code",
   "execution_count": null,
   "metadata": {},
   "outputs": [],
   "source": [
    "if __name__ == '__main__':\n",
    "    main()"
   ]
  }
 ],
 "metadata": {
  "language_info": {
   "name": "python"
  }
 },
 "nbformat": 4,
 "nbformat_minor": 2
}
